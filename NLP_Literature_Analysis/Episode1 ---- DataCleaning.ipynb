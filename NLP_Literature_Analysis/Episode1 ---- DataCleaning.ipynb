{
 "cells": [
  {
   "cell_type": "markdown",
   "metadata": {},
   "source": [
    "# Episode1 Getting the Data"
   ]
  },
  {
   "cell_type": "markdown",
   "metadata": {},
   "source": [
    "Specifically, we'll be walking through:\n",
    "1.*Getting the data=\" In this case, we'll be scraping data from a website\n",
    "2.*Cleaning the data-we will walk through popular text preprocessing techniques\n",
    "3.*Organizing the data-\"we will organize the cleaned data into a way that is easy to input into other algorithms "
   ]
  },
  {
   "cell_type": "markdown",
   "metadata": {},
   "source": [
    "1. Corpus - a collection of text\n",
    "2. Documnet-Term Matrix - word counts in matrix format"
   ]
  },
  {
   "cell_type": "code",
   "execution_count": 1,
   "metadata": {},
   "outputs": [],
   "source": [
    "import requests\n",
    "from bs4 import BeautifulSoup\n",
    "import pickle"
   ]
  },
  {
   "cell_type": "code",
   "execution_count": 2,
   "metadata": {},
   "outputs": [],
   "source": [
    "def url_to_transcript(url):\n",
    "    page = requests.get(url).text\n",
    "###content gives you access to the raw bytes of the response payload,\n",
    "###you will often want to convert them into a string using a character encoding such as UTF-8. \n",
    "###response will do that for you when you access .text:\n",
    "    soup = BeautifulSoup(page)\n",
    "    text = [p.text for p in soup.find_all('p')]\n",
    "    print(url)\n",
    "    return text\n",
    "urls = ['https://scrapsfromtheloft.com/2020/01/05/ambiguous-beginning-of-heart-of-darkness/',\n",
    "       'https://scrapsfromtheloft.com/2019/12/23/vladimir-nabokov-the-man-who-scandalized-the-world/',\n",
    "       'https://scrapsfromtheloft.com/2019/12/07/american-novels-first-world-war-ernest-hemingway-farewell-to-arms/']\n",
    "writers = ['Joseph Conrad','Vladimir Nabokov','Ernest Hemingway']"
   ]
  },
  {
   "cell_type": "code",
   "execution_count": 3,
   "metadata": {},
   "outputs": [],
   "source": [
    "#!mkdir transcripts"
   ]
  },
  {
   "cell_type": "code",
   "execution_count": 4,
   "metadata": {},
   "outputs": [
    {
     "name": "stderr",
     "output_type": "stream",
     "text": [
      "D:\\Annaconda\\lib\\site-packages\\bs4\\__init__.py:181: UserWarning: No parser was explicitly specified, so I'm using the best available HTML parser for this system (\"lxml\"). This usually isn't a problem, but if you run this code on another system, or in a different virtual environment, it may use a different parser and behave differently.\n",
      "\n",
      "The code that caused this warning is on line 193 of the file D:\\Annaconda\\lib\\runpy.py. To get rid of this warning, change code that looks like this:\n",
      "\n",
      " BeautifulSoup([your markup])\n",
      "\n",
      "to this:\n",
      "\n",
      " BeautifulSoup([your markup], \"lxml\")\n",
      "\n",
      "  markup_type=markup_type))\n"
     ]
    },
    {
     "name": "stdout",
     "output_type": "stream",
     "text": [
      "https://scrapsfromtheloft.com/2020/01/05/ambiguous-beginning-of-heart-of-darkness/\n",
      "https://scrapsfromtheloft.com/2019/12/23/vladimir-nabokov-the-man-who-scandalized-the-world/\n",
      "https://scrapsfromtheloft.com/2019/12/07/american-novels-first-world-war-ernest-hemingway-farewell-to-arms/\n"
     ]
    }
   ],
   "source": [
    "transcripts = [url_to_transcript(u) for u in urls]"
   ]
  },
  {
   "cell_type": "code",
   "execution_count": 5,
   "metadata": {},
   "outputs": [
    {
     "name": "stdout",
     "output_type": "stream",
     "text": [
      "0\n",
      "Joseph Conrad\n",
      "1\n",
      "Vladimir Nabokov\n",
      "2\n",
      "Ernest Hemingway\n"
     ]
    }
   ],
   "source": [
    "data = {}\n",
    "for i,w in enumerate(writers):\n",
    "    print(i)\n",
    "    print(w)\n",
    "    with open(\"transcripts/\"+w+\".txt\",\"wb\") as file:\n",
    "        pickle.dump(transcripts[i],file)####### in general pickle always be the preferred way to serialize Python objects #########\n",
    "################ pickle is a binary serialization forma ########################\n",
    "##########   https://docs.python.org/3/library/pickle.html   #############"
   ]
  },
  {
   "cell_type": "code",
   "execution_count": 6,
   "metadata": {},
   "outputs": [],
   "source": [
    "for i,w in enumerate(writers): #### w is key here ####\n",
    "    with open(\"transcripts/\"+w+\".txt\",\"rb\") as file:\n",
    "        data[w] = pickle.load(file)  ###### Load value for key;\n",
    "##### Every para load as a element of list ######"
   ]
  },
  {
   "cell_type": "code",
   "execution_count": 7,
   "metadata": {},
   "outputs": [
    {
     "data": {
      "text/plain": [
       "dict_keys(['Joseph Conrad', 'Vladimir Nabokov', 'Ernest Hemingway'])"
      ]
     },
     "execution_count": 7,
     "metadata": {},
     "output_type": "execute_result"
    }
   ],
   "source": [
    "data.keys()"
   ]
  },
  {
   "cell_type": "code",
   "execution_count": 8,
   "metadata": {},
   "outputs": [
    {
     "data": {
      "text/plain": [
       "'by Richard Adams'"
      ]
     },
     "execution_count": 8,
     "metadata": {},
     "output_type": "execute_result"
    }
   ],
   "source": [
    "data['Joseph Conrad'][1]"
   ]
  },
  {
   "cell_type": "code",
   "execution_count": 9,
   "metadata": {},
   "outputs": [
    {
     "data": {
      "text/plain": [
       "['The Ambiguous Beginning of “Heart of Darkness”',\n",
       " 'by Richard Adams',\n",
       " 'Richard Adams analyzes the title and opening paragraphs of Heart of Darkness, showing that neither gives the reader clues regarding the subject matter and focus of the story. Adams offers possible meanings of the title and possible interpretations of the setting and the group of five men setting out on a journey. Adams suggests that the reader is prepared to eavesdrop on the story Heart of Darkness. Richard Adams is professor of English at California State University in Sacramento. He has written school texts—Appropriate English and Teaching Shakespeare—and published editions of works by Shakespeare, Conrad, Schaffer, and Iris Murdoch.',\n",
       " '* * *',\n",
       " 'Many works of fiction, particularly those written before the end of the nineteenth century, provide us with some notion of their subject-matter or focus before we actually embark on a reading of the text. They do so by means of their title-pages. One, for instance, purports to be an account of the travels of a man named Gulliver, while another proclaims itself to be the autobiographical narrative of a clergyman from the town of Wakefield. With a third, we are led to expect a study of the kind of provincial life carried on in a place called Middlemarch. Other titles reveal in advance the identity of a pivotal character or characters—from Pamela and Joseph Andrews and Jane Eyre to Emma and Dombey (and his son) and Tess and Jude. The names themselves may not tell us much about what to expect in terms either of personality or of career, but at least they give us some idea of whom we should be watching. Similarly, with North and South or The Mill on the Floss or A Tale of Two Cities we are prepared for some kind of geographical focus, whether fictitious or real. Still other titles—such as Jane Austen’s Persuasion, Pride and\\xa0Prejudice\\xa0and Sense and\\xa0Sensibility—indicate key ideas or themes or ruling passions.',\n",
       " 'With Heart of Darkness, first published in the spring of 1899, the case is rather different. The phrase is ambiguous, deeply suggestive and logically problematical. At first sight, it is difficult to envisage what kind of signpost to the text it can possibly be.',\n",
       " 'The ambiguity derives from our natural uncertainty over the force of’ the word\\xa0‘of’: does it signify composition or location? Are we about to learn about a heart made of darkness—a heart that is somehow dark—or a place which lies at the very centre of an area of darkness? That Conrad intended this ambiguity is suggested by the fact that, though he consistently referred to the piece during its composition as The Heart of Darkness, a title which tends to favour the ‘location’ signification, he dropped the definite article on publication.',\n",
       " 'The Various Meanings of ‘Heart’ and ‘Darkness’',\n",
       " 'Then there is the matter of the range of commonly accepted meanings and associations of ‘heart’ and ‘darkness’, and the fact that the two words stand, in many respects, at opposite poles. ‘Heart’ has a powerful positive force: from its primary denotation of the physical organ on which all animal life depends, it comes to be representative of the life-force itself, as well as of life-enhancing qualities and emotions such as goodness, compassion, courage, love. ‘Darkness’, on the other hand, has distinctly negative overtones. In a whole host of world mythologies, it is associated with chaos and disorder, the condition to combat which light and life were created. The term ‘the Dark Ages’ was coined to identify a period of relative unenlightenment in the cultural and intellectual life of early medieval Europe. Because human beings do not naturally function well in the dark, it came to be thought of as the home and haven of all those things—intangible as well as tangible—of which people were unsure or fearful or suspicious. It suggested the unknown, the unknowable, the unintelligible, the ignorant, the sinister, the secret. The English language still abounds in expressions which reflect these associations: a friend asks me what I have been doing lately and, in telling him, I extract a promise that he will ‘keep it dark’. In ensuring that other members of our circle are kept ignorant of my activities in this way, I am deliberately leaving them ‘in the dark’. But because these other people are aware that I am up to something, without knowing exactly what that something is, they begin to think of me as a ‘dark horse’ and to speak of my activities—perhaps ironically, perhaps not—as ‘dark deeds’.',\n",
       " 'From such negative attributions, it is but a short step to the fundamental association of darkness with evil. For pre-\\xadelectric man, darkness was the impenetrable cloak under which crimes and diabolical acts of all kinds were committed: not for nothing was Satan known as ‘the Prince of Darkness’. In medieval and Renaissance art, he was indeed commonly portrayed as being black-faced, as were the hapless studs that fell into his grasp. Shakespeare’s Macbeth greets the servant who brings him news of the arrival of the English force that is to topple him from power with the curse ‘the devil damn thee black’.',\n",
       " 'It was a perverse and unhealthy logic that extended these associations of ignorance and evil to the negro—the ‘darky’, as he was called in popular slang—the aboriginal inhabitant of Africa, the ‘dark’ continent. The conversion of pagan tribes to Christianity and their political and social ‘improvement’ were figuratively expressed as the bringing of light into a dark wilderness, the benign imposition on chaos of a productive order.',\n",
       " 'The Complexity of Two Yoked\\xa0Metaphors',\n",
       " 'The title Heart of Darkness is, then, crammed with complex and shifting associations. For Ian Watt.1 it consists of more than the mere yoking together of two stock metaphors as a means of designating, on the one hand, the centre of benighted Africa, and tin the other, a quintessentially evil person (one whose heart is literally made of darkness). He draws attention to the logical implausibility of attributing to the more concrete of the two terms, ‘heart’, a strategic centrality within a formless and infinite abstraction. ‘How’, he asks, ‘can something inorganic like darkness have an organic centre of life and feeling? How can a shapeless absence of light compact itself into a shaped and pulsing presence?’ The problem Watt identifies here is compounded, moreover, by the moral paradox of a ‘good’ entity (the heart) exorcising control over an ‘evil’ one (darkness).',\n",
       " 'As we turn to the text for the first time, we need to be aware that the title Heart of Darkness does not work at all in the way that Nicholas Nickleby and Crotchet Castle or among Conrad’s own writings—Typhoon and The Trigger of the Narcissus work. If we deduce from it anything about the narrative we are about to encounter, perhaps it should be that that narrative may also have its ambiguities, its suggestiveness and its problems of logic.',\n",
       " 'Any reader of Conrad who comes Heart of Darkness reared exclusively on a diet of the authors sea-stories might be excused, after glancing at the opening paragraphs, for thinking that he or she was about to be served up with more of the same. The Nellie, for all that she is temporarily becalmed on the Thames near Gravesend, is bound down-river towards the sea, where any number of adventures may be awaiting her. And, as if to reinforce the impression that this is indeed to be a tale of the sea and ships, the text is liberally seasoned with the sort of technical jargon likely to pack the average reader smartly off to a glossary of nautical terms for assistance. We are told that ‘the Nellie, a cruising yawl, swung to her anchor’ and that ‘the Hood had made so that ‘the only thing for it was to come to’. There is mention of ‘the offing’, of ‘peaked’ sails and ‘varnished sprits’.',\n",
       " 'With the third paragraph, however, there comes a shift of emphasis. We learn that, for all his nautical and reassuringly pilot-like appearance, the boat’s captain is not a professional sailor but a company director. Or rather, the other way about: ‘The Director of Companies was our captain and our host.’ The picture begins to focus more clearly: the nar\\xadrator’s companions are weekend sailors, men engaged in city business of one kind or another, invited by the Nellie’s owner to join him for a social cruise down the Thames.',\n",
       " 'The Group of Five Men',\n",
       " 'The entire group consists of five men, identified for us as the Director, the Lawyer, the Accountant, Marlow (the only one of them referred to by name and the only one, as we are later told, who is still a professional seaman) and the narrator. The bond between them is the fact that they have all at some time in their lives ‘followed the sea’. The narrator refers to this fact at the beginning of the fourth paragraph, where he also touches, in passing, on his having said as much ‘somewhere’ else. This somewhere is at the beginning of Conrad’s narrative ‘Youth’, where the identical company is to he found ‘sitting around a mahogany table that reflected the bottle, the claret-glasses, and our faces as we leaned on our elbows’ and it is made clear that all five of its members had started life in the merchant service. None of the men is described in any great detail in the opening pages of Heart of Darkness; however, in referring briefly to the appearance or actions of each, the narrator flashes across the reader’s consciousness a number of ideas and images that are developed later in the story.',\n",
       " 'With the first mention of the Director, for instance, we are reminded of the deceptiveness of appearances. As he stands in the bow of his boat and gazes seaward he arouses in his companions feelings of affection and deep trust. The narrator remarks that he looks like a pilot, ‘which to a seaman is trustworthiness personified’, and suggests that he ought to be working ‘out there in the luminous estuary’. But he is not: his employment lies behind him, in the city of London, ‘within the brooding gloom’. The suggestion is that any kind of appearance, whether good or bad, is not to be taken on face value.',\n",
       " 'The Lawyer and Accountant are treated to rather briefer descriptions. The former, who seems to be the senior member of the party, is stretched out on the deck, enjoying the benefit—on account ‘of his many years and mans virtues’— of the only cushion and the only rug available. The latter has brought out a box of dominoes and is halfheartedly building little structures (‘toying architecturally’) with the pieces. The narrator’s use of the word ‘bones’ reminds us that, prior to mass-production, dominoes were often made of ebony inlaid with bone or ivory, and that bone and ivory were for centuries mistakenly believed to be the same substance.',\n",
       " 'Last to be mentioned is Marlow, whose sitting position is described by the narrator with great precision:',\n",
       " 'Marlon sat cross-legged right aft, leaning against the mizzen-mast. He had sunken cheeks, a yellow complexion, a straight back, an ascetic aspect, and, with his arms dropped, the palms of hands outwards, resembled an idol.',\n",
       " 'As William Bysshe Stein has pointed out, Marlow is here sitting in the so-called lotus posture, familiar to us from its representation in the Buddhist art of India and the Orient.2 This posture is the one adapted as a prerequisite to Yoga meditation. contemplation and absorption, and it suggests that Marlow ‘is ready to engage in an exercise of intense introspection’, with the expectation that it will lead to some kind of personal enlightenment. That we are intended to register this connection is made clear by the fact that the narrator goes on to refer to Marlow’s Buddha-like bearing on three further occasions in the course of Heart Of Darkness.',\n",
       " 'Images Suggest Themes to Be Developed',\n",
       " 'The untrustworthiness of appearances . . . the idea that people and things may not always be what they seem; a man lying full-length on the deck of a boat; another halfheartedly building little structures with domino pieces . . . bone and ivory . . . something white inlaid, grafted, imposed on something black; a third man composing himself for meditation, self-examination, in the hope of enlightenment: such are the ideas and images that we glimpse at the opening of Heart of Darkness, ideas and images whose significance becomes clearer as the story progresses.',\n",
       " 'The narrator adds nothing about himself to this thumbnail gallery of the Nellie’s passengers. However, his observations in the opening pages of the story—for all that he implies that a number of them reflect the corporate consciousness of the group—reveal a sensitive and essentially optimistic being. It is he, for example, who articulates the importance of the sea-bond to him and his companions. ‘Besides holding our hearts together through long periods of separation, it had the effect of making us tolerant of each other’s yarns—and even convictions.’ Their estrangement from the sea has introduced diversity of interest, opinion and attitude among the members of the group. The beliefs that any one of them holds and expresses will not necessarily find sympathy or understanding on the part of the others, though the comradeship born of their shared past experiences ought to be enough to ensure a respectful hearing. Each reserves the right to put his personal construction on the tale that another tells; each makes his own decision about accepting or rejecting the philosophical base on which that tale is reared.',\n",
       " 'As readers, as eavesdroppers on the narrative, of Heart of Darkness, we are invited to do the same.',\n",
       " 'Notes',\n",
       " '1. in Conrad in the Nineteenth Century, Los Angeles: University of California Press, 1979.',\n",
       " '2. in “The Lotus Posture and the Heart of Darkness,” Modern Fiction Studies, II, 2 (Summer 1957), pp. 167-70.',\n",
       " 'Source: Excerpted from Richard Adams, critical commentary on Heart Of Darkness, by Joseph Conrad (London: Penguin, 1991)',\n",
       " '\\n',\n",
       " 'Save my name, email, and website in this browser for the next time I comment.',\n",
       " ' \\n\\n']"
      ]
     },
     "execution_count": 9,
     "metadata": {},
     "output_type": "execute_result"
    }
   ],
   "source": [
    "transcripts[0]"
   ]
  },
  {
   "cell_type": "code",
   "execution_count": null,
   "metadata": {},
   "outputs": [],
   "source": []
  },
  {
   "cell_type": "markdown",
   "metadata": {},
   "source": [
    "## Data Cleaning "
   ]
  },
  {
   "cell_type": "markdown",
   "metadata": {},
   "source": [
    "Common data cleaning steps on all text:\n",
    "* Make text all lower case \n",
    "* Remove punctuation\n",
    "* Remove numerical values\n",
    "* Remove common non-sensical text(/n)\n",
    "* Tokenize text\n",
    "* Rmove stop words"
   ]
  },
  {
   "cell_type": "code",
   "execution_count": 10,
   "metadata": {},
   "outputs": [],
   "source": [
    "def combine_text(list_of_text):\n",
    "    combine_text = ' '.join(list_of_text)\n",
    "    return combine_text    #### Convert them to a list ####"
   ]
  },
  {
   "cell_type": "code",
   "execution_count": 11,
   "metadata": {},
   "outputs": [],
   "source": [
    "dict_combined = {key:[combine_text(value)] for (key,value) in data.items()}"
   ]
  },
  {
   "cell_type": "code",
   "execution_count": null,
   "metadata": {},
   "outputs": [],
   "source": []
  },
  {
   "cell_type": "code",
   "execution_count": 12,
   "metadata": {},
   "outputs": [
    {
     "data": {
      "text/html": [
       "<div>\n",
       "<table border=\"1\" class=\"dataframe\">\n",
       "  <thead>\n",
       "    <tr style=\"text-align: right;\">\n",
       "      <th></th>\n",
       "      <th>transcript</th>\n",
       "    </tr>\n",
       "  </thead>\n",
       "  <tbody>\n",
       "    <tr>\n",
       "      <th>Ernest Hemingway</th>\n",
       "      <td>by Carlos Baker Since his death in the summer of 1961, a school of critics has arisen which holds that the novel we are about to discuss was reall...</td>\n",
       "    </tr>\n",
       "    <tr>\n",
       "      <th>Joseph Conrad</th>\n",
       "      <td>The Ambiguous Beginning of “Heart of Darkness” by Richard Adams Richard Adams analyzes the title and opening paragraphs of Heart of Darkness, show...</td>\n",
       "    </tr>\n",
       "    <tr>\n",
       "      <th>Vladimir Nabokov</th>\n",
       "      <td>Who and what is Vladimir Nabokov (the author of Lolita) and why   by Helen Lawrenson One of the more diverting aspects of Lolita, the most controv...</td>\n",
       "    </tr>\n",
       "  </tbody>\n",
       "</table>\n",
       "</div>"
      ],
      "text/plain": [
       "                                                                                                                                                             transcript\n",
       "Ernest Hemingway  by Carlos Baker Since his death in the summer of 1961, a school of critics has arisen which holds that the novel we are about to discuss was reall...\n",
       "Joseph Conrad     The Ambiguous Beginning of “Heart of Darkness” by Richard Adams Richard Adams analyzes the title and opening paragraphs of Heart of Darkness, show...\n",
       "Vladimir Nabokov  Who and what is Vladimir Nabokov (the author of Lolita) and why   by Helen Lawrenson One of the more diverting aspects of Lolita, the most controv..."
      ]
     },
     "execution_count": 12,
     "metadata": {},
     "output_type": "execute_result"
    }
   ],
   "source": [
    "import pandas as pd\n",
    "pd.set_option('max_colwidth',150)\n",
    "data_df = pd.DataFrame.from_dict(dict_combined).transpose()\n",
    "##### Transpose make row ro column and make column to row ####\n",
    "data_df.columns = ['transcript']\n",
    "#data_df = data_df.sort_index()\n",
    "data_df"
   ]
  },
  {
   "cell_type": "markdown",
   "metadata": {},
   "source": [
    "## Data cleaning "
   ]
  },
  {
   "cell_type": "code",
   "execution_count": 13,
   "metadata": {},
   "outputs": [],
   "source": [
    "# Apply a first round of text cleaning techniques\n",
    "import re\n",
    "import string\n",
    "\n",
    "def clean_text_round1(text):\n",
    "    '''Make text lowercase, remove text in square brackets, remove punctuation and remove words containing numbers.'''\n",
    "    text = text.lower()\n",
    "    text = re.sub('\\[.*?\\]', '', text)\n",
    "    text = re.sub('[%s]' % re.escape(string.punctuation), '', text)\n",
    "    text = re.sub('\\d', '', text)   #######'\\d' Matches any Unicode decimal digit; \n",
    "#####Matches Unicode word characters; this includes most characters that can be part of a word in any language,numbers and the underscore.\n",
    "    return text\n",
    "\n",
    "round1 = lambda x: clean_text_round1(x)"
   ]
  },
  {
   "cell_type": "code",
   "execution_count": 14,
   "metadata": {},
   "outputs": [],
   "source": [
    "# Apply a second round of cleaning\n",
    "def clean_text_round2(text):\n",
    "    '''Get rid of some additional punctuation and non-sensical text that was missed the first time around.'''\n",
    "    text = re.sub('[‘’*“”…\"\"'']', '', text)\n",
    "    text = re.sub('\\n', '', text)\n",
    "    return text\n",
    "\n",
    "round2 = lambda x: clean_text_round2(x)"
   ]
  },
  {
   "cell_type": "code",
   "execution_count": 15,
   "metadata": {},
   "outputs": [
    {
     "data": {
      "text/html": [
       "<div>\n",
       "<table border=\"1\" class=\"dataframe\">\n",
       "  <thead>\n",
       "    <tr style=\"text-align: right;\">\n",
       "      <th></th>\n",
       "      <th>transcript</th>\n",
       "    </tr>\n",
       "  </thead>\n",
       "  <tbody>\n",
       "    <tr>\n",
       "      <th>Ernest Hemingway</th>\n",
       "      <td>by carlos baker since his death in the summer of  a school of critics has arisen which holds that the novel we are about to discuss was really the...</td>\n",
       "    </tr>\n",
       "    <tr>\n",
       "      <th>Joseph Conrad</th>\n",
       "      <td>the ambiguous beginning of “heart of darkness” by richard adams richard adams analyzes the title and opening paragraphs of heart of darkness showi...</td>\n",
       "    </tr>\n",
       "    <tr>\n",
       "      <th>Vladimir Nabokov</th>\n",
       "      <td>who and what is vladimir nabokov the author of lolita and why   by helen lawrenson one of the more diverting aspects of lolita the most controvers...</td>\n",
       "    </tr>\n",
       "  </tbody>\n",
       "</table>\n",
       "</div>"
      ],
      "text/plain": [
       "                                                                                                                                                             transcript\n",
       "Ernest Hemingway  by carlos baker since his death in the summer of  a school of critics has arisen which holds that the novel we are about to discuss was really the...\n",
       "Joseph Conrad     the ambiguous beginning of “heart of darkness” by richard adams richard adams analyzes the title and opening paragraphs of heart of darkness showi...\n",
       "Vladimir Nabokov  who and what is vladimir nabokov the author of lolita and why   by helen lawrenson one of the more diverting aspects of lolita the most controvers..."
      ]
     },
     "execution_count": 15,
     "metadata": {},
     "output_type": "execute_result"
    }
   ],
   "source": [
    "# Let's take a look at the updated text\n",
    "data_clean = pd.DataFrame(data_df.transcript.apply(round1))\n",
    "data_clean"
   ]
  },
  {
   "cell_type": "code",
   "execution_count": 16,
   "metadata": {},
   "outputs": [
    {
     "data": {
      "text/html": [
       "<div>\n",
       "<table border=\"1\" class=\"dataframe\">\n",
       "  <thead>\n",
       "    <tr style=\"text-align: right;\">\n",
       "      <th></th>\n",
       "      <th>transcript</th>\n",
       "    </tr>\n",
       "  </thead>\n",
       "  <tbody>\n",
       "    <tr>\n",
       "      <th>Ernest Hemingway</th>\n",
       "      <td>by carlos baker since his death in the summer of  a school of critics has arisen which holds that the novel we are about to discuss was really the...</td>\n",
       "    </tr>\n",
       "    <tr>\n",
       "      <th>Joseph Conrad</th>\n",
       "      <td>the ambiguous beginning of heart of darkness by richard adams richard adams analyzes the title and opening paragraphs of heart of darkness showing...</td>\n",
       "    </tr>\n",
       "    <tr>\n",
       "      <th>Vladimir Nabokov</th>\n",
       "      <td>who and what is vladimir nabokov the author of lolita and why   by helen lawrenson one of the more diverting aspects of lolita the most controvers...</td>\n",
       "    </tr>\n",
       "  </tbody>\n",
       "</table>\n",
       "</div>"
      ],
      "text/plain": [
       "                                                                                                                                                             transcript\n",
       "Ernest Hemingway  by carlos baker since his death in the summer of  a school of critics has arisen which holds that the novel we are about to discuss was really the...\n",
       "Joseph Conrad     the ambiguous beginning of heart of darkness by richard adams richard adams analyzes the title and opening paragraphs of heart of darkness showing...\n",
       "Vladimir Nabokov  who and what is vladimir nabokov the author of lolita and why   by helen lawrenson one of the more diverting aspects of lolita the most controvers..."
      ]
     },
     "execution_count": 16,
     "metadata": {},
     "output_type": "execute_result"
    }
   ],
   "source": [
    "# Let's take a look at the updated text\n",
    "data_clean = pd.DataFrame(data_clean.transcript.apply(round2))\n",
    "data_clean"
   ]
  },
  {
   "cell_type": "code",
   "execution_count": 17,
   "metadata": {},
   "outputs": [],
   "source": [
    "# Let's pickle it for later use\n",
    "data_df.to_pickle(\"corpus.pkl\")"
   ]
  },
  {
   "cell_type": "markdown",
   "metadata": {},
   "source": [
    "### Documnet-Term Matrix"
   ]
  },
  {
   "cell_type": "markdown",
   "metadata": {},
   "source": [
    "For many of the techniques we'll be using in future notebooks, the text must be tokenized, meaning broken down into smaller pieces. The most common tokenization technique is to break down text into words. We can do this using scikit-learn's CountVectorizer, where every row will represent a different document and every column will represent a different word.\n",
    "\n",
    "In addition, with CountVectorizer, we can remove stop words. Stop words are common words that add no additional meaning to text such as 'a', 'the',etc."
   ]
  },
  {
   "cell_type": "code",
   "execution_count": 18,
   "metadata": {},
   "outputs": [
    {
     "name": "stdout",
     "output_type": "stream",
     "text": [
      "[[0 1 4 ... 0 0 0]\n",
      " [0 0 0 ... 0 0 0]\n",
      " [1 0 0 ... 1 1 1]]\n"
     ]
    },
    {
     "data": {
      "text/html": [
       "<div>\n",
       "<table border=\"1\" class=\"dataframe\">\n",
       "  <thead>\n",
       "    <tr style=\"text-align: right;\">\n",
       "      <th></th>\n",
       "      <th>abilities</th>\n",
       "      <th>ability</th>\n",
       "      <th>able</th>\n",
       "      <th>abnormal</th>\n",
       "      <th>aboriginal</th>\n",
       "      <th>abounds</th>\n",
       "      <th>abrupt</th>\n",
       "      <th>abruzzi</th>\n",
       "      <th>absence</th>\n",
       "      <th>absorption</th>\n",
       "      <th>...</th>\n",
       "      <th>yoked</th>\n",
       "      <th>yoking</th>\n",
       "      <th>york</th>\n",
       "      <th>young</th>\n",
       "      <th>youth</th>\n",
       "      <th>youthful</th>\n",
       "      <th>zeitgeist</th>\n",
       "      <th>zoo</th>\n",
       "      <th>zoology</th>\n",
       "      <th>émigrés</th>\n",
       "    </tr>\n",
       "  </thead>\n",
       "  <tbody>\n",
       "    <tr>\n",
       "      <th>Ernest Hemingway</th>\n",
       "      <td>0</td>\n",
       "      <td>1</td>\n",
       "      <td>4</td>\n",
       "      <td>0</td>\n",
       "      <td>0</td>\n",
       "      <td>0</td>\n",
       "      <td>0</td>\n",
       "      <td>2</td>\n",
       "      <td>0</td>\n",
       "      <td>0</td>\n",
       "      <td>...</td>\n",
       "      <td>0</td>\n",
       "      <td>0</td>\n",
       "      <td>3</td>\n",
       "      <td>8</td>\n",
       "      <td>0</td>\n",
       "      <td>0</td>\n",
       "      <td>1</td>\n",
       "      <td>0</td>\n",
       "      <td>0</td>\n",
       "      <td>0</td>\n",
       "    </tr>\n",
       "    <tr>\n",
       "      <th>Joseph Conrad</th>\n",
       "      <td>0</td>\n",
       "      <td>0</td>\n",
       "      <td>0</td>\n",
       "      <td>0</td>\n",
       "      <td>1</td>\n",
       "      <td>1</td>\n",
       "      <td>0</td>\n",
       "      <td>0</td>\n",
       "      <td>1</td>\n",
       "      <td>1</td>\n",
       "      <td>...</td>\n",
       "      <td>1</td>\n",
       "      <td>1</td>\n",
       "      <td>0</td>\n",
       "      <td>0</td>\n",
       "      <td>1</td>\n",
       "      <td>0</td>\n",
       "      <td>0</td>\n",
       "      <td>0</td>\n",
       "      <td>0</td>\n",
       "      <td>0</td>\n",
       "    </tr>\n",
       "    <tr>\n",
       "      <th>Vladimir Nabokov</th>\n",
       "      <td>1</td>\n",
       "      <td>0</td>\n",
       "      <td>0</td>\n",
       "      <td>1</td>\n",
       "      <td>0</td>\n",
       "      <td>0</td>\n",
       "      <td>1</td>\n",
       "      <td>0</td>\n",
       "      <td>0</td>\n",
       "      <td>0</td>\n",
       "      <td>...</td>\n",
       "      <td>0</td>\n",
       "      <td>0</td>\n",
       "      <td>5</td>\n",
       "      <td>3</td>\n",
       "      <td>0</td>\n",
       "      <td>1</td>\n",
       "      <td>0</td>\n",
       "      <td>1</td>\n",
       "      <td>1</td>\n",
       "      <td>1</td>\n",
       "    </tr>\n",
       "  </tbody>\n",
       "</table>\n",
       "<p>3 rows × 3087 columns</p>\n",
       "</div>"
      ],
      "text/plain": [
       "                  abilities  ability  able  abnormal  aboriginal  abounds  \\\n",
       "Ernest Hemingway          0        1     4         0           0        0   \n",
       "Joseph Conrad             0        0     0         0           1        1   \n",
       "Vladimir Nabokov          1        0     0         1           0        0   \n",
       "\n",
       "                  abrupt  abruzzi  absence  absorption   ...     yoked  \\\n",
       "Ernest Hemingway       0        2        0           0   ...         0   \n",
       "Joseph Conrad          0        0        1           1   ...         1   \n",
       "Vladimir Nabokov       1        0        0           0   ...         0   \n",
       "\n",
       "                  yoking  york  young  youth  youthful  zeitgeist  zoo  \\\n",
       "Ernest Hemingway       0     3      8      0         0          1    0   \n",
       "Joseph Conrad          1     0      0      1         0          0    0   \n",
       "Vladimir Nabokov       0     5      3      0         1          0    1   \n",
       "\n",
       "                  zoology  émigrés  \n",
       "Ernest Hemingway        0        0  \n",
       "Joseph Conrad           0        0  \n",
       "Vladimir Nabokov        1        1  \n",
       "\n",
       "[3 rows x 3087 columns]"
      ]
     },
     "execution_count": 18,
     "metadata": {},
     "output_type": "execute_result"
    }
   ],
   "source": [
    "# We are going to create a document-term matrix using CountVectorizer, and exclude common English stop words\n",
    "from sklearn.feature_extraction.text import CountVectorizer\n",
    "\n",
    "cv = CountVectorizer(stop_words='english')###Remove stop words\n",
    "data_cv = cv.fit_transform(data_clean.transcript)\n",
    "print(data_cv.toarray())\n",
    "data_dtm = pd.DataFrame(data_cv.toarray(), columns=cv.get_feature_names())\n",
    "data_dtm.index = data_clean.index\n",
    "data_dtm"
   ]
  },
  {
   "cell_type": "code",
   "execution_count": 19,
   "metadata": {},
   "outputs": [],
   "source": [
    "# Let's pickle it for later use\n",
    "data_dtm.to_pickle(\"dtm.pkl\")"
   ]
  },
  {
   "cell_type": "code",
   "execution_count": 20,
   "metadata": {},
   "outputs": [],
   "source": [
    "# Let's also pickle the cleaned data (before we put it in document-term matrix format) and the CountVectorizer object\n",
    "data_clean.to_pickle('data_clean.pkl')\n",
    "pickle.dump(cv, open(\"cv.pkl\", \"wb\"))"
   ]
  },
  {
   "cell_type": "code",
   "execution_count": null,
   "metadata": {},
   "outputs": [],
   "source": []
  }
 ],
 "metadata": {
  "kernelspec": {
   "display_name": "Python [conda env:root] *",
   "language": "python",
   "name": "conda-root-py"
  },
  "language_info": {
   "codemirror_mode": {
    "name": "ipython",
    "version": 3
   },
   "file_extension": ".py",
   "mimetype": "text/x-python",
   "name": "python",
   "nbconvert_exporter": "python",
   "pygments_lexer": "ipython3",
   "version": "3.6.9"
  }
 },
 "nbformat": 4,
 "nbformat_minor": 2
}
